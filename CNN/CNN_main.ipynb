{
 "cells": [
  {
   "cell_type": "code",
   "execution_count": 59,
   "metadata": {},
   "outputs": [],
   "source": [
    "# import libraries\n",
    "import numpy as np\n",
    "import sys\n",
    "import matplotlib.pyplot as plt\n",
    "import cv2\n",
    "import glob\n",
    "import skimage.transform as trans\n",
    "import model\n",
    "from tensorflow.keras.models import save_model\n",
    "import seaborn as sns\n",
    "from sklearn.metrics import confusion_matrix\n",
    "from sklearn.metrics import confusion_matrix\n",
    "from sklearn.metrics import classification_report"
   ]
  },
  {
   "cell_type": "code",
   "execution_count": 60,
   "metadata": {},
   "outputs": [],
   "source": [
    "# lists for data\n",
    "x_train = []\n",
    "y_train = []\n",
    "x_test = []\n",
    "y_test = []"
   ]
  },
  {
   "cell_type": "code",
   "execution_count": 61,
   "metadata": {},
   "outputs": [],
   "source": [
    "# import images with yes class\n",
    "path = \"../Dataset/test/no/\"\n",
    "images = glob.glob(path + \"*.jpg\")\n",
    "images.sort()"
   ]
  },
  {
   "cell_type": "code",
   "execution_count": 21,
   "metadata": {},
   "outputs": [],
   "source": [
    "for x in images:\n",
    "    image = cv2.imread(x, cv2.IMREAD_GRAYSCALE)\n",
    "    image = image / 255\n",
    "    image = trans.resize(image,(256,256))\n",
    "    y_test.append(0)\n",
    "    x_test.append(image)"
   ]
  },
  {
   "cell_type": "code",
   "execution_count": 22,
   "metadata": {},
   "outputs": [],
   "source": [
    "# import images with yes class\n",
    "path = \"../Dataset/test/yes/\"\n",
    "images = glob.glob(path + \"*.jpg\")\n",
    "images.sort()"
   ]
  },
  {
   "cell_type": "code",
   "execution_count": 23,
   "metadata": {},
   "outputs": [],
   "source": [
    "for x in images:\n",
    "    image = cv2.imread(x, cv2.IMREAD_GRAYSCALE)\n",
    "    image = image / 255\n",
    "    image = trans.resize(image,(256,256))\n",
    "    y_test.append(1)\n",
    "    x_test.append(image)"
   ]
  },
  {
   "cell_type": "code",
   "execution_count": 24,
   "metadata": {},
   "outputs": [],
   "source": [
    "# import images with no class\n",
    "path = \"../Dataset/no/\"\n",
    "images = glob.glob(path + \"*.jpg\")\n",
    "images.sort()"
   ]
  },
  {
   "cell_type": "code",
   "execution_count": 25,
   "metadata": {},
   "outputs": [],
   "source": [
    "# read in image\n",
    "for x in images:\n",
    "    image = cv2.imread(x, cv2.IMREAD_GRAYSCALE)\n",
    "    image = image/256\n",
    "    image = trans.resize(image,(256,256))\n",
    "    y_train.append(0)\n",
    "    x_train.append(image)"
   ]
  },
  {
   "cell_type": "code",
   "execution_count": 26,
   "metadata": {},
   "outputs": [],
   "source": [
    "# import images with yes class\n",
    "path = \"../Dataset/yes/\"\n",
    "images = glob.glob(path + \"*.jpg\")\n",
    "images.sort()"
   ]
  },
  {
   "cell_type": "code",
   "execution_count": 27,
   "metadata": {},
   "outputs": [],
   "source": [
    "# read in image\n",
    "for x in images:\n",
    "    image = cv2.imread(x, cv2.IMREAD_GRAYSCALE)\n",
    "    image = image/256\n",
    "    image = trans.resize(image,(256,256))\n",
    "    y_train.append(1)\n",
    "    x_train.append(image)"
   ]
  },
  {
   "cell_type": "code",
   "execution_count": 31,
   "metadata": {},
   "outputs": [],
   "source": [
    "# create numpy arrays with images\n",
    "x_train = np.array(x_train)\n",
    "y_train = np.array(y_train)\n",
    "x_test = np.array(x_test)\n",
    "y_test = np.array(y_test)"
   ]
  },
  {
   "cell_type": "code",
   "execution_count": 32,
   "metadata": {},
   "outputs": [],
   "source": [
    "# reshape arrays with np.reshape\n",
    "x_train = np.reshape(x_train, (len(x_train), 256, 256, 1))\n",
    "x_test = np.reshape(x_test, (len(x_test), 256, 256, 1))"
   ]
  },
  {
   "cell_type": "code",
   "execution_count": 33,
   "metadata": {},
   "outputs": [],
   "source": [
    "# train the model\n",
    "BTdetector = model.cnn_bt()"
   ]
  },
  {
   "cell_type": "code",
   "execution_count": 34,
   "metadata": {},
   "outputs": [
    {
     "name": "stdout",
     "output_type": "stream",
     "text": [
      "Epoch 1/15\n",
      "652/652 [==============================] - 95s 146ms/step - loss: 0.4340 - acc: 0.7948 - val_loss: 0.3029 - val_acc: 0.9448\n",
      "Epoch 2/15\n",
      "652/652 [==============================] - 98s 151ms/step - loss: 0.2097 - acc: 0.9202 - val_loss: 0.3412 - val_acc: 0.8793\n",
      "Epoch 3/15\n",
      "652/652 [==============================] - 93s 142ms/step - loss: 0.1208 - acc: 0.9586 - val_loss: 0.1166 - val_acc: 0.9655\n",
      "Epoch 4/15\n",
      "652/652 [==============================] - 93s 143ms/step - loss: 0.0676 - acc: 0.9789 - val_loss: 0.2530 - val_acc: 0.9345\n",
      "Epoch 5/15\n",
      "652/652 [==============================] - 92s 141ms/step - loss: 0.0558 - acc: 0.9839 - val_loss: 0.0761 - val_acc: 0.9897\n",
      "Epoch 6/15\n",
      "652/652 [==============================] - 92s 142ms/step - loss: 0.0405 - acc: 0.9862 - val_loss: 0.0716 - val_acc: 0.9828\n",
      "Epoch 7/15\n",
      "652/652 [==============================] - 96s 148ms/step - loss: 0.0192 - acc: 0.9935 - val_loss: 0.1801 - val_acc: 0.9552\n",
      "Epoch 8/15\n",
      "652/652 [==============================] - 93s 143ms/step - loss: 0.0242 - acc: 0.9923 - val_loss: 0.0590 - val_acc: 0.9828\n",
      "Epoch 9/15\n",
      "652/652 [==============================] - 93s 143ms/step - loss: 0.0422 - acc: 0.9854 - val_loss: 0.0356 - val_acc: 0.9931\n",
      "Epoch 10/15\n",
      "652/652 [==============================] - 93s 143ms/step - loss: 0.0262 - acc: 0.9912 - val_loss: 0.0389 - val_acc: 0.9931\n",
      "Epoch 11/15\n",
      "652/652 [==============================] - 93s 143ms/step - loss: 0.0180 - acc: 0.9946 - val_loss: 0.0598 - val_acc: 0.9897\n",
      "Epoch 12/15\n",
      "652/652 [==============================] - 92s 141ms/step - loss: 0.0310 - acc: 0.9912 - val_loss: 0.0635 - val_acc: 0.9931\n",
      "Epoch 13/15\n",
      "652/652 [==============================] - 93s 142ms/step - loss: 0.0128 - acc: 0.9965 - val_loss: 0.0449 - val_acc: 0.9931\n",
      "Epoch 14/15\n",
      "652/652 [==============================] - 92s 141ms/step - loss: 0.0033 - acc: 0.9985 - val_loss: 0.1172 - val_acc: 0.9793\n",
      "Epoch 15/15\n",
      "652/652 [==============================] - 93s 142ms/step - loss: 0.0425 - acc: 0.9908 - val_loss: 0.1215 - val_acc: 0.9759\n"
     ]
    }
   ],
   "source": [
    "history = BTdetector.fit(x_train, y_train, epochs=15, batch_size=4, verbose=1, validation_split=0.1)"
   ]
  },
  {
   "cell_type": "code",
   "execution_count": 35,
   "metadata": {},
   "outputs": [],
   "source": [
    "# save the model\n",
    "save_model(BTdetector, 'Model.h5')"
   ]
  },
  {
   "cell_type": "code",
   "execution_count": 36,
   "metadata": {},
   "outputs": [],
   "source": [
    "# save weights of the model\n",
    "BTdetector.save_weights('weights.hdf5')"
   ]
  },
  {
   "cell_type": "code",
   "execution_count": 37,
   "metadata": {},
   "outputs": [
    {
     "name": "stdout",
     "output_type": "stream",
     "text": [
      "test loss, test acc: [0.0017541819252073765, 1.0]\n"
     ]
    }
   ],
   "source": [
    "# evaluate the model on test set\n",
    "results = BTdetector.evaluate(x_test,y_test,verbose=0)\n",
    "print(\"test loss, test acc:\", results)"
   ]
  },
  {
   "cell_type": "code",
   "execution_count": 38,
   "metadata": {},
   "outputs": [
    {
     "name": "stdout",
     "output_type": "stream",
     "text": [
      "dict_keys(['loss', 'acc', 'val_loss', 'val_acc'])\n"
     ]
    }
   ],
   "source": [
    "# list all data in history\n",
    "print(history.history.keys())"
   ]
  },
  {
   "cell_type": "code",
   "execution_count": 39,
   "metadata": {},
   "outputs": [
    {
     "data": {
      "image/png": "[encoded data removed]",
      "text/plain": [
       "<Figure size 432x288 with 1 Axes>"
      ]
     },
     "metadata": {
      "needs_background": "light"
     },
     "output_type": "display_data"
    }
   ],
   "source": [
    "# summarize history for accuracy\n",
    "plt.plot(history.history['acc'])\n",
    "plt.title('model accuracy')\n",
    "plt.ylabel('accuracy')\n",
    "plt.xlabel('epoch')\n",
    "plt.legend(['train'], loc='upper left')\n",
    "plt.show()"
   ]
  },
  {
   "cell_type": "code",
   "execution_count": 40,
   "metadata": {},
   "outputs": [
    {
     "data": {
      "image/png": "[encoded data removed]",
      "text/plain": [
       "<Figure size 432x288 with 1 Axes>"
      ]
     },
     "metadata": {
      "needs_background": "light"
     },
     "output_type": "display_data"
    }
   ],
   "source": [
    "# summarize history for loss\n",
    "plt.plot(history.history['loss'])\n",
    "plt.title('model loss')\n",
    "plt.ylabel('loss')\n",
    "plt.xlabel('epoch')\n",
    "plt.legend(['train'], loc='upper left')\n",
    "plt.show()"
   ]
  },
  {
   "cell_type": "code",
   "execution_count": 41,
   "metadata": {},
   "outputs": [
    {
     "data": {
      "image/png": "[encoded data removed]",
      "text/plain": [
       "<Figure size 432x288 with 1 Axes>"
      ]
     },
     "metadata": {
      "needs_background": "light"
     },
     "output_type": "display_data"
    }
   ],
   "source": [
    "# summarize history for loss\n",
    "plt.plot(history.history['val_loss'])\n",
    "plt.title('model val_loss')\n",
    "plt.ylabel('val_loss')\n",
    "plt.xlabel('epoch')\n",
    "plt.legend(['train'], loc='upper left')\n",
    "plt.show()"
   ]
  },
  {
   "cell_type": "code",
   "execution_count": 42,
   "metadata": {},
   "outputs": [
    {
     "data": {
      "image/png": "[encoded data removed]",
      "text/plain": [
       "<Figure size 432x288 with 1 Axes>"
      ]
     },
     "metadata": {
      "needs_background": "light"
     },
     "output_type": "display_data"
    }
   ],
   "source": [
    "# summarize history for accuracy\n",
    "plt.plot(history.history['val_acc'])\n",
    "plt.title('model val_accuracy')\n",
    "plt.ylabel('val_accuracy')\n",
    "plt.xlabel('epoch')\n",
    "plt.legend(['train'], loc='upper left')\n",
    "plt.show()"
   ]
  },
  {
   "cell_type": "code",
   "execution_count": 43,
   "metadata": {},
   "outputs": [],
   "source": []
  },
  {
   "cell_type": "code",
   "execution_count": 46,
   "metadata": {},
   "outputs": [],
   "source": [
    "pred=BTdetector.predict(x_test)"
   ]
  },
  {
   "cell_type": "code",
   "execution_count": 50,
   "metadata": {},
   "outputs": [],
   "source": [
    "for i in range (len(pred)):\n",
    "    if (pred[i] > 0.5):\n",
    "        pred[i] = 1\n",
    "    else:\n",
    "        pred[i] = 0"
   ]
  },
  {
   "cell_type": "code",
   "execution_count": 54,
   "metadata": {},
   "outputs": [
    {
     "data": {
      "text/plain": [
       "'              precision    recall  f1-score   support\\n\\n           1       1.00      1.00      1.00        51\\n           0       1.00      1.00      1.00        51\\n\\n    accuracy                           1.00       102\\n   macro avg       1.00      1.00      1.00       102\\nweighted avg       1.00      1.00      1.00       102\\n'"
      ]
     },
     "execution_count": 54,
     "metadata": {},
     "output_type": "execute_result"
    }
   ],
   "source": [
    "classification_report(y_test, pred, labels=[1,0])"
   ]
  },
  {
   "cell_type": "code",
   "execution_count": 57,
   "metadata": {},
   "outputs": [],
   "source": [
    "cf_matrix = confusion_matrix(y_test, pred)"
   ]
  },
  {
   "cell_type": "code",
   "execution_count": 58,
   "metadata": {},
   "outputs": [
    {
     "data": {
      "text/plain": [
       "<matplotlib.axes._subplots.AxesSubplot at 0x1f9f80400d0>"
      ]
     },
     "execution_count": 58,
     "metadata": {},
     "output_type": "execute_result"
    },
    {
     "data": {
      "image/png": "[encoded data removed]",
      "text/plain": [
       "<Figure size 432x288 with 2 Axes>"
      ]
     },
     "metadata": {
      "needs_background": "light"
     },
     "output_type": "display_data"
    }
   ],
   "source": [
    "sns.heatmap(cf_matrix, annot=True)"
   ]
  },
  {
   "cell_type": "code",
   "execution_count": null,
   "metadata": {},
   "outputs": [],
   "source": []
  }
 ],
 "metadata": {
  "kernelspec": {
   "display_name": "Python 3",
   "language": "python",
   "name": "python3"
  },
  "language_info": {
   "codemirror_mode": {
    "name": "ipython",
    "version": 3
   },
   "file_extension": ".py",
   "mimetype": "text/x-python",
   "name": "python",
   "nbconvert_exporter": "python",
   "pygments_lexer": "ipython3",
   "version": "3.8.3"
  }
 },
 "nbformat": 4,
 "nbformat_minor": 4
}
