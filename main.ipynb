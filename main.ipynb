{
 "cells": [
  {
   "cell_type": "code",
   "execution_count": 1,
   "metadata": {},
   "outputs": [],
   "source": [
    "import cv2\n",
    "import numpy as np\n",
    "import tensorflow as tf\n",
    "from tensorflow.keras.optimizers import Adam\n",
    "import skimage.transform as trans\n",
    "import sys"
   ]
  },
  {
   "cell_type": "code",
   "execution_count": 2,
   "metadata": {},
   "outputs": [],
   "source": [
    "# import models\n",
    "sys.path.insert(1, 'CNN/')\n",
    "sys.path.insert(2, 'UNet/')\n",
    "import model\n",
    "import U_Net_model"
   ]
  },
  {
   "cell_type": "code",
   "execution_count": 3,
   "metadata": {},
   "outputs": [],
   "source": [
    "cnn_weight = 'CNN/weights/weights.hdf5'\n",
    "unet_weight = 'UNet/weights/u_netweights.hdf5'\n",
    "image_path = 'test_1.jpg' "
   ]
  },
  {
   "cell_type": "code",
   "execution_count": 4,
   "metadata": {},
   "outputs": [],
   "source": [
    "image = cv2.imread(image_path, cv2.IMREAD_GRAYSCALE)\n",
    "image = image / 255\n",
    "image = trans.resize(image,(256,256))"
   ]
  },
  {
   "cell_type": "code",
   "execution_count": 5,
   "metadata": {},
   "outputs": [],
   "source": [
    "x = []\n",
    "x.append(image)\n",
    "x = np.array(x)\n",
    "x = np.reshape(x, (1, 256, 256, 1))"
   ]
  },
  {
   "cell_type": "code",
   "execution_count": 6,
   "metadata": {},
   "outputs": [],
   "source": [
    "cnn = model.cnn_bt(pretrained_weights=cnn_weight)\n",
    "pd_cnn = cnn.predict(x)"
   ]
  },
  {
   "cell_type": "code",
   "execution_count": 7,
   "metadata": {},
   "outputs": [
    {
     "name": "stdout",
     "output_type": "stream",
     "text": [
      "Tumor detected.\n"
     ]
    }
   ],
   "source": [
    "if pd_cnn[0][0] > 0.5:\n",
    "    print('Tumor detected.')\n",
    "    org = cv2.imread(image_path)\n",
    "    rows, cols, channels = org.shape     \n",
    "    unet = U_Net_model.unet_bt(pretrained_weights=unet_weight)\n",
    "    unet.compile(optimizer = Adam(), loss = 'binary_crossentropy')\n",
    "    predicted = unet.predict(np.reshape(image, (1, 256, 256, 1)))\n",
    "    predicted = predicted.astype(np.float64) * 255\n",
    "    predicted = np.reshape(predicted, (256, 256))\n",
    "    predicted = trans.resize(predicted, (rows,cols))\n",
    "    predicted = predicted.astype(np.uint8)\n",
    "    predicted = cv2.cvtColor(predicted, cv2.COLOR_GRAY2BGR)\n",
    "   \n",
    "    ret, mask = cv2.threshold(predicted, 120, 255, cv2.THRESH_BINARY)\n",
    "    white_pixels = np.where((mask[:, :, 0] == 255) & \n",
    "                            (mask[:, :, 1] == 255) & \n",
    "                            (mask[:, :, 2] == 255))\n",
    "    mask[white_pixels] = [255, 255, 0]\n",
    "    add = cv2.addWeighted(org, 0.9, mask, 0.7, 0)   \n",
    "    \n",
    "    add = cv2.putText(add,\n",
    "                     'Tumor detected.',\n",
    "                     (int(rows/20),int(cols/15)),\n",
    "                     cv2.FONT_HERSHEY_SIMPLEX,\n",
    "                     cols/(rows+cols),\n",
    "                     (255,255,255),\n",
    "                     1,\n",
    "                     cv2.LINE_AA)\n",
    "    cv2.imshow('image', add)\n",
    "    \n",
    "    file_name = image_path.replace(\"/\", \"\")\n",
    "    file_name = file_name.replace(\".jpg\", \"\")\n",
    "    cv2.imwrite('{}predicted.png'.format(file_name),\n",
    "                add)   \n",
    "else:\n",
    "    print('no tumor detected.')\n",
    "    org = cv2.imread(image_path)\n",
    "    rows, cols, channels = org.shape     \n",
    "    org = cv2.putText(org,\n",
    "                     'No tumor detected.',\n",
    "                     (int(rows/20),int(cols/15)),\n",
    "                     cv2.FONT_HERSHEY_SIMPLEX,\n",
    "                     cols/(rows+cols),\n",
    "                     (255,255,255),\n",
    "                     1,\n",
    "                     cv2.LINE_AA)\n",
    "    cv2.imshow('image', org)\n",
    "    file_name = image_path.replace(\"/\", \"\")\n",
    "    file_name = file_name.replace(\".jpg\", \"\")\n",
    "    cv2.imwrite('{}predicted.png'.format(file_name),\n",
    "                org)\n",
    "cv2.waitKey(0)\n",
    "cv2.destroyAllWindows()"
   ]
  },
  {
   "cell_type": "code",
   "execution_count": null,
   "metadata": {},
   "outputs": [],
   "source": []
  }
 ],
 "metadata": {
  "kernelspec": {
   "display_name": "Python 3",
   "language": "python",
   "name": "python3"
  },
  "language_info": {
   "codemirror_mode": {
    "name": "ipython",
    "version": 3
   },
   "file_extension": ".py",
   "mimetype": "text/x-python",
   "name": "python",
   "nbconvert_exporter": "python",
   "pygments_lexer": "ipython3",
   "version": "3.8.3"
  }
 },
 "nbformat": 4,
 "nbformat_minor": 4
}
